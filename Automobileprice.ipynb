from azureml import Workspace
ws = Workspace(
    workspace_id='5343e8d2284d47de9d5a3c941a85e8bf',
    authorization_token='rnUpzUpuAPwagOmtHlrGkwbwTH2CkMsOcsEkppLTqecPP2FXNPyWHycYyEtHb+sEnKD6b0/xdcsgguROxQaVCg==',
    endpoint='https://studioapi.azureml.net'
)
ds = ws.datasets['CarPrice_Assignment.csv']
frame = ds.to_dataframe()
